{
 "cells": [
  {
   "cell_type": "code",
   "execution_count": 1,
   "metadata": {},
   "outputs": [],
   "source": [
    "import pandas as pd"
   ]
  },
  {
   "cell_type": "code",
   "execution_count": 13,
   "metadata": {},
   "outputs": [],
   "source": [
    "df = pd.read_csv('Phishing_Email.csv')\n",
    "df1 = pd.read_csv('PhiUSIIL_Phishing_URL_Dataset.csv')\n",
    "df2 = pd.read_csv('verified_online.csv')\n"
   ]
  },
  {
   "cell_type": "code",
   "execution_count": 16,
   "metadata": {},
   "outputs": [
    {
     "name": "stdout",
     "output_type": "stream",
     "text": [
      "<class 'pandas.core.frame.DataFrame'>\n",
      "RangeIndex: 18650 entries, 0 to 18649\n",
      "Data columns (total 3 columns):\n",
      " #   Column      Non-Null Count  Dtype \n",
      "---  ------      --------------  ----- \n",
      " 0   Unnamed: 0  18650 non-null  int64 \n",
      " 1   Email Text  18634 non-null  object\n",
      " 2   Email Type  18650 non-null  object\n",
      "dtypes: int64(1), object(2)\n",
      "memory usage: 437.2+ KB\n"
     ]
    }
   ],
   "source": [
    "df.info()"
   ]
  },
  {
   "cell_type": "code",
   "execution_count": 17,
   "metadata": {},
   "outputs": [
    {
     "name": "stdout",
     "output_type": "stream",
     "text": [
      "<class 'pandas.core.frame.DataFrame'>\n",
      "RangeIndex: 235795 entries, 0 to 235794\n",
      "Data columns (total 56 columns):\n",
      " #   Column                      Non-Null Count   Dtype  \n",
      "---  ------                      --------------   -----  \n",
      " 0   FILENAME                    235795 non-null  object \n",
      " 1   URL                         235795 non-null  object \n",
      " 2   URLLength                   235795 non-null  int64  \n",
      " 3   Domain                      235795 non-null  object \n",
      " 4   DomainLength                235795 non-null  int64  \n",
      " 5   IsDomainIP                  235795 non-null  int64  \n",
      " 6   TLD                         235795 non-null  object \n",
      " 7   URLSimilarityIndex          235795 non-null  float64\n",
      " 8   CharContinuationRate        235795 non-null  float64\n",
      " 9   TLDLegitimateProb           235795 non-null  float64\n",
      " 10  URLCharProb                 235795 non-null  float64\n",
      " 11  TLDLength                   235795 non-null  int64  \n",
      " 12  NoOfSubDomain               235795 non-null  int64  \n",
      " 13  HasObfuscation              235795 non-null  int64  \n",
      " 14  NoOfObfuscatedChar          235795 non-null  int64  \n",
      " 15  ObfuscationRatio            235795 non-null  float64\n",
      " 16  NoOfLettersInURL            235795 non-null  int64  \n",
      " 17  LetterRatioInURL            235795 non-null  float64\n",
      " 18  NoOfDegitsInURL             235795 non-null  int64  \n",
      " 19  DegitRatioInURL             235795 non-null  float64\n",
      " 20  NoOfEqualsInURL             235795 non-null  int64  \n",
      " 21  NoOfQMarkInURL              235795 non-null  int64  \n",
      " 22  NoOfAmpersandInURL          235795 non-null  int64  \n",
      " 23  NoOfOtherSpecialCharsInURL  235795 non-null  int64  \n",
      " 24  SpacialCharRatioInURL       235795 non-null  float64\n",
      " 25  IsHTTPS                     235795 non-null  int64  \n",
      " 26  LineOfCode                  235795 non-null  int64  \n",
      " 27  LargestLineLength           235795 non-null  int64  \n",
      " 28  HasTitle                    235795 non-null  int64  \n",
      " 29  Title                       235795 non-null  object \n",
      " 30  DomainTitleMatchScore       235795 non-null  float64\n",
      " 31  URLTitleMatchScore          235795 non-null  float64\n",
      " 32  HasFavicon                  235795 non-null  int64  \n",
      " 33  Robots                      235795 non-null  int64  \n",
      " 34  IsResponsive                235795 non-null  int64  \n",
      " 35  NoOfURLRedirect             235795 non-null  int64  \n",
      " 36  NoOfSelfRedirect            235795 non-null  int64  \n",
      " 37  HasDescription              235795 non-null  int64  \n",
      " 38  NoOfPopup                   235795 non-null  int64  \n",
      " 39  NoOfiFrame                  235795 non-null  int64  \n",
      " 40  HasExternalFormSubmit       235795 non-null  int64  \n",
      " 41  HasSocialNet                235795 non-null  int64  \n",
      " 42  HasSubmitButton             235795 non-null  int64  \n",
      " 43  HasHiddenFields             235795 non-null  int64  \n",
      " 44  HasPasswordField            235795 non-null  int64  \n",
      " 45  Bank                        235795 non-null  int64  \n",
      " 46  Pay                         235795 non-null  int64  \n",
      " 47  Crypto                      235795 non-null  int64  \n",
      " 48  HasCopyrightInfo            235795 non-null  int64  \n",
      " 49  NoOfImage                   235795 non-null  int64  \n",
      " 50  NoOfCSS                     235795 non-null  int64  \n",
      " 51  NoOfJS                      235795 non-null  int64  \n",
      " 52  NoOfSelfRef                 235795 non-null  int64  \n",
      " 53  NoOfEmptyRef                235795 non-null  int64  \n",
      " 54  NoOfExternalRef             235795 non-null  int64  \n",
      " 55  label                       235795 non-null  int64  \n",
      "dtypes: float64(10), int64(41), object(5)\n",
      "memory usage: 100.7+ MB\n"
     ]
    }
   ],
   "source": [
    "df1.info()"
   ]
  },
  {
   "cell_type": "code",
   "execution_count": 18,
   "metadata": {},
   "outputs": [
    {
     "name": "stdout",
     "output_type": "stream",
     "text": [
      "<class 'pandas.core.frame.DataFrame'>\n",
      "RangeIndex: 59073 entries, 0 to 59072\n",
      "Data columns (total 8 columns):\n",
      " #   Column             Non-Null Count  Dtype \n",
      "---  ------             --------------  ----- \n",
      " 0   phish_id           59073 non-null  int64 \n",
      " 1   url                59073 non-null  object\n",
      " 2   phish_detail_url   59073 non-null  object\n",
      " 3   submission_time    59073 non-null  object\n",
      " 4   verified           59073 non-null  object\n",
      " 5   verification_time  59073 non-null  object\n",
      " 6   online             59073 non-null  object\n",
      " 7   target             59073 non-null  object\n",
      "dtypes: int64(1), object(7)\n",
      "memory usage: 3.6+ MB\n"
     ]
    }
   ],
   "source": [
    "df2.info()"
   ]
  },
  {
   "cell_type": "code",
   "execution_count": null,
   "metadata": {},
   "outputs": [],
   "source": []
  }
 ],
 "metadata": {
  "kernelspec": {
   "display_name": "Python 3",
   "language": "python",
   "name": "python3"
  },
  "language_info": {
   "codemirror_mode": {
    "name": "ipython",
    "version": 3
   },
   "file_extension": ".py",
   "mimetype": "text/x-python",
   "name": "python",
   "nbconvert_exporter": "python",
   "pygments_lexer": "ipython3",
   "version": "3.12.8"
  }
 },
 "nbformat": 4,
 "nbformat_minor": 2
}
